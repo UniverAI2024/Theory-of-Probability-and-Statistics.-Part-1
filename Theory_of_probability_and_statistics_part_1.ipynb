{
  "nbformat": 4,
  "nbformat_minor": 0,
  "metadata": {
    "colab": {
      "provenance": [],
      "machine_shape": "hm"
    },
    "kernelspec": {
      "name": "python3",
      "display_name": "Python 3"
    }
  },
  "cells": [
    {
      "cell_type": "markdown",
      "metadata": {
        "id": "nIDZJDJptVrB"
      },
      "source": [
        "## Classical calculation of probability"
      ]
    },
    {
      "cell_type": "markdown",
      "metadata": {
        "id": "ajo_IFn_fuGN"
      },
      "source": [
        "Task 1\n",
        "\n",
        "Calculate the probability:\n",
        "A - Of retrieving any card of with the suit diamonds (♦) out of a deck of 36 cards\n",
        "B - Of retrieving any card belonging to any suit other than diamonds."
      ]
    },
    {
      "cell_type": "code",
      "metadata": {
        "id": "f4Beu_iJf8VA",
        "colab": {
          "base_uri": "https://localhost:8080/",
          "height": 34
        },
        "outputId": "197d46d4-462f-477e-89d4-93f94f3a27c9"
      },
      "source": [
        "# A\n",
        "#P(A) = m/n\n",
        "m = 9   # Number of cards with diamonds in the deck\n",
        "n = 36 # Total number of possible outcomes (cards)\n",
        "P = m/n # The probability that the given card has the suit of diamonds\n",
        "print(P)"
      ],
      "execution_count": null,
      "outputs": [
        {
          "output_type": "stream",
          "text": [
            "0.25\n"
          ],
          "name": "stdout"
        }
      ]
    },
    {
      "cell_type": "code",
      "metadata": {
        "id": "fPzwzj0enxJK",
        "colab": {
          "base_uri": "https://localhost:8080/",
          "height": 34
        },
        "outputId": "b50519dc-3e68-4da5-9ef5-1bc7c349ffb6"
      },
      "source": [
        "# B\n",
        "print(1 - P) # Probability that the card doesn't have diamonds"
      ],
      "execution_count": null,
      "outputs": [
        {
          "output_type": "stream",
          "text": [
            "0.75\n"
          ],
          "name": "stdout"
        }
      ]
    },
    {
      "cell_type": "code",
      "metadata": {
        "id": "LKzENL1qS-Xl",
        "colab": {
          "base_uri": "https://localhost:8080/",
          "height": 34
        },
        "outputId": "62d4ef29-5c26-4118-9e0f-6e46d43e6b46"
      },
      "source": [
        "m2 = 27\n",
        "n = 36 # Total number of possible outcomes (cards)\n",
        "P2 = m2/n # Probability that the card doesn't have diamonds\n",
        "print(P2)"
      ],
      "execution_count": null,
      "outputs": [
        {
          "output_type": "stream",
          "text": [
            "0.75\n"
          ],
          "name": "stdout"
        }
      ]
    },
    {
      "cell_type": "markdown",
      "metadata": {
        "id": "PVo74kHthKV2"
      },
      "source": [
        "Task 2\n",
        "\n",
        "An urn contains 10 red marbes. A marble is grabbed at random, what is the probability that:\n",
        "\n",
        "A – a red marble is chosen from the urn?\n",
        "\n",
        "B – a black marble is chosen from the urn?"
      ]
    },
    {
      "cell_type": "code",
      "metadata": {
        "id": "NwMIexOPh80V",
        "colab": {
          "base_uri": "https://localhost:8080/",
          "height": 34
        },
        "outputId": "415cc3b4-d365-4495-f951-1969cce8aa67"
      },
      "source": [
        "# Part A\n",
        "m = 10  # Number of red marbles in the urn\n",
        "n = 10 # Number of marbles in the urn in total\n",
        "P = m/n # Probability that the chosen marble is red\n",
        "print(P)"
      ],
      "execution_count": null,
      "outputs": [
        {
          "output_type": "stream",
          "text": [
            "1.0\n"
          ],
          "name": "stdout"
        }
      ]
    },
    {
      "cell_type": "code",
      "metadata": {
        "id": "RPxKx9XagabQ",
        "colab": {
          "base_uri": "https://localhost:8080/",
          "height": 34
        },
        "outputId": "f8f55343-ae76-4ca5-e191-273c7c3111ab"
      },
      "source": [
        "# Part B\n",
        "m = 0   # Number of black marbles in the urn\n",
        "n = 10 # Number of marbles in the urn in total\n",
        "P = m/n # Probability that the chosen marble is black\n",
        "print(P)"
      ],
      "execution_count": null,
      "outputs": [
        {
          "output_type": "stream",
          "text": [
            "0.0\n"
          ],
          "name": "stdout"
        }
      ]
    },
    {
      "cell_type": "code",
      "metadata": {
        "id": "iPF0tpwkTQvd",
        "colab": {
          "base_uri": "https://localhost:8080/",
          "height": 34
        },
        "outputId": "9e962cb6-9285-45e0-97c3-00e6558f25b9"
      },
      "source": [
        "print(1-P)"
      ],
      "execution_count": null,
      "outputs": [
        {
          "output_type": "stream",
          "text": [
            "0.0\n"
          ],
          "name": "stdout"
        }
      ]
    },
    {
      "cell_type": "markdown",
      "metadata": {
        "id": "rvyUK47MoKUi"
      },
      "source": [
        "Task 3\n",
        "\n",
        "An urn contains 10 white, 8 red, and 7 black marbles. A marble is chosen at random, find the probability that it will be:\n",
        "\n",
        "a) a white marble, b) a red marble, c) a black marble."
      ]
    },
    {
      "cell_type": "code",
      "metadata": {
        "id": "33QslRVGoRZ7"
      },
      "source": [
        "# The following function finds probabilities,\n",
        "# takes in arguments m  – number of outcomes fitting the chosen circumstance (number of marbles of a certain color)\n",
        "# n – total number of possible outcomes (number of marbles in total),\n",
        "# h - written description of target goal\n",
        "def get_prob(m,n,h):\n",
        "  P = round(m/n,2) # probability\n",
        "  return \"For {}, the probability is: {}\".format(h,P)"
      ],
      "execution_count": null,
      "outputs": []
    },
    {
      "cell_type": "code",
      "metadata": {
        "id": "806fk6CPoxXX",
        "colab": {
          "base_uri": "https://localhost:8080/",
          "height": 68
        },
        "outputId": "3b9ce52f-d8d5-470c-ca11-c8343e4f914c"
      },
      "source": [
        "#Calculate the probability of retrieving a marble of each color\n",
        "print(get_prob(10,25,'white marbles: '))\n",
        "print(get_prob(8, 25,'red marbles: '))\n",
        "print(get_prob(7, 25,'black marbles: '))"
      ],
      "execution_count": null,
      "outputs": [
        {
          "output_type": "stream",
          "text": [
            "For white marbles: , the probability is: 0.4\n",
            "For red marbles: , the probability is: 0.32\n",
            "For black marbles: , the probability is: 0.28\n"
          ],
          "name": "stdout"
        }
      ]
    },
    {
      "cell_type": "markdown",
      "metadata": {
        "id": "_PxN6I-sps4Y"
      },
      "source": [
        "Task 4\n",
        "\n",
        "While calling someone on the phone, the caller forgot the last two digits. However the caller remembers that one of the digits is a 2, and the other one is an odd number. Find the probability that the correct number is chosen."
      ]
    },
    {
      "cell_type": "code",
      "metadata": {
        "id": "EPqKA8dRpz2n",
        "colab": {
          "base_uri": "https://localhost:8080/",
          "height": 34
        },
        "outputId": "29521876-b0a7-4282-d891-a012b9334ca7"
      },
      "source": [
        "# As we are not given the number of possible numbers, we have to count them ourselves. Let's write down all possible answers.\n",
        "out = [21, 23, 25, 27, 29, 12, 32, 52, 72, 92]\n",
        "\n",
        "n = len(out) # Number of total possibilities\n",
        "m = 1        # only one of these is the correct answer\n",
        "\n",
        "print(get_prob(1,len(out),'the correct phone number'))"
      ],
      "execution_count": null,
      "outputs": [
        {
          "output_type": "stream",
          "text": [
            "For the correct phone number, the probability is: 0.1\n"
          ],
          "name": "stdout"
        }
      ]
    },
    {
      "cell_type": "markdown",
      "metadata": {
        "id": "dEdJ5_8W8xqk"
      },
      "source": [
        "Task 5\n",
        "\n",
        "Find the probability that after throwing two six-sided dice, the sum will be:\n",
        "\n",
        "a) 7 points\n",
        "\n",
        "b) no more than 5 points\n",
        "\n",
        "c) from 3 to 9 points inclusively"
      ]
    },
    {
      "cell_type": "code",
      "metadata": {
        "id": "z5hqkUpX86Nw",
        "colab": {
          "base_uri": "https://localhost:8080/",
          "height": 85
        },
        "outputId": "fd97c29d-9251-420c-d94d-b7320f5772b7"
      },
      "source": [
        "# The most common error in this time of problem is forgetting to take into account symmetrical results\n",
        "#(ie. [2, 1] and [1, 2]). These two results are the same, and we must look at them as if they are the same result.\n",
        "n = 36                                                               # 6 possible results from throwing a dice, and there are two dice in total,\n",
        "                                                                     #therefore the number of possible answers is 6*6 = 36\n",
        "\n",
        "m_a = [(1,6),(6,1),(2,5),(5,2),(3,4),(4,3)]                          # Possible combinations under which the sum = 7\n",
        "m_b = [(1,1),(1,2),(2,1),(1,3),(3,1),(2,2),(1,4),(4,1),(2,3),(3,2)]  # No more than 5 means a sum of either 2, 3, 4, or 5.\n",
        "m_c = [(1,1),(4,6),(6,4),(5,5),(5,6),(6,5),(6,6)]                    # For part C, since the total number of combinations is considerably greater, we will use the following trick:\n",
        "                                                                     # Let's look at the other possibilities - that we will get 2, 9, 10, or 11 points.\n",
        "print(get_prob(len(m_a),n,'a'))\n",
        "print(get_prob(len(m_b),n,'b'))\n",
        "print(get_prob(len(m_c),n,'not c'))\n",
        "\n",
        "print(\"The probability for part c is: {}\".format(1 - len(m_c)/n))         # Since the probability of two opposite events = 1"
      ],
      "execution_count": null,
      "outputs": [
        {
          "output_type": "stream",
          "text": [
            "For a, the probability is: 0.17\n",
            "For b, the probability is: 0.28\n",
            "For not c, the probability is: 0.19\n",
            "The probability for part c is: 0.8055555555555556\n"
          ],
          "name": "stdout"
        }
      ]
    },
    {
      "cell_type": "markdown",
      "metadata": {
        "id": "yORuCA0LDHhr"
      },
      "source": [
        "Task 6\n",
        "\n",
        "Three people enter an elevator in a ten-story building. Find the probability that:\n",
        "\n",
        "a) They will exit the elevator on different floors\n",
        "\n",
        "b) Two people exit on the same floor\n",
        "\n",
        "c) All three of them exit on the same floor"
      ]
    },
    {
      "cell_type": "code",
      "metadata": {
        "id": "fk_qjLAMDOIH",
        "colab": {
          "base_uri": "https://localhost:8080/",
          "height": 68
        },
        "outputId": "5b8c41c9-d941-4763-c5e2-1b6844b654ea"
      },
      "source": [
        "n = 729   # The three passengers can leave at 9 different floors (all floors but the first floor): 9*9*9=729\n",
        "m_a = 504 # Number of possible ways to leave on three different floors (7 * 8 * 9)\n",
        "\n",
        "# a) Count the number of possible outcomes which lead to three people leaving at different floors\n",
        "# b) A difficult task involving combinations, instead of solving it we will count all other probabilities and subtract them from 1\n",
        "# c) Let's start by counting the number of cases in which all three people leave at the same floor\n",
        "m_c = 9   # There are nine such outcomes\n",
        "print(get_prob(m_a,n,'a'))\n",
        "print(get_prob(m_c,n,'c'))\n",
        "print(\"For case b, the probability is: {}\".format(1 - 0.691358024691 - 0.012345679012345678))"
      ],
      "execution_count": null,
      "outputs": [
        {
          "output_type": "stream",
          "text": [
            "For a, the probability is: 0.69\n",
            "For c, the probability is: 0.01\n",
            "For case b, the probability is: 0.29629629629665427\n"
          ],
          "name": "stdout"
        }
      ]
    },
    {
      "cell_type": "markdown",
      "metadata": {
        "id": "DNryNbYgh6vc"
      },
      "source": [
        "Task 7\n",
        "\n",
        "A store recieved products packaged in boxes, which came from four separate storehouses: four from the 1st, five from the 2nd, seven from the 3rd, and four from the 4th. A box is allocated randomly for sale.\n",
        "What is the probability that the box being sold came from the 1st or the 3rd storehouse?"
      ]
    },
    {
      "cell_type": "code",
      "metadata": {
        "id": "5V7gLN9Yh-Zd",
        "colab": {
          "base_uri": "https://localhost:8080/",
          "height": 68
        },
        "outputId": "42d25db2-bb99-4cf5-e227-ce01738222b5"
      },
      "source": [
        "n = 4 + 5 + 7 + 4 # Count the total number of outcomes\n",
        "m_1 = 4\n",
        "m_3 = 7\n",
        "print(get_prob(m_1,n,'the probability of the box coming from the 1st storehouse'))\n",
        "print(get_prob(m_3,n,'the probability of the box coming from the 3rd storehouse'))\n",
        "\n",
        "print(\"The probability that the box came from either the 1st or the 3rd storehouse is: {}\".format(0.2+0.35))"
      ],
      "execution_count": null,
      "outputs": [
        {
          "output_type": "stream",
          "text": [
            "For the probability of the box coming from the 1st storehouse, the probability is: 0.2\n",
            "For the probability of the box coming from the 3rd storehouse, the probability is: 0.35\n",
            "The probability that the box came from either the 1st or the 3rd storehouse is: 0.55\n"
          ],
          "name": "stdout"
        }
      ]
    },
    {
      "cell_type": "code",
      "metadata": {
        "id": "3VJunziaYJ51"
      },
      "source": [],
      "execution_count": null,
      "outputs": []
    },
    {
      "cell_type": "markdown",
      "metadata": {
        "id": "1nKSESZW6gYD"
      },
      "source": [
        "*Theorem on adding probabilities with compatible outcomes*.\n",
        "\n",
        "Probability of one of multiple conditions being met.\n",
        "Example:\n",
        "Let's throw a dice. What is the probability that either an odd number will appear, or the number will be larger than 3? Let's analyze this more closely.\n",
        "\n",
        "Event A - an odd value being thrown. This event can happen regardless if the number is even or odd. We need the probability of one of the two conditions being met. In this case, we apply the following equation:\n",
        "\n",
        "> **P(A + B) = P(A) + P(B) - P(A * B)**"
      ]
    },
    {
      "cell_type": "markdown",
      "metadata": {
        "id": "r4RkCvl-6gZ6"
      },
      "source": [
        "## Distribution laws, expectation values and variance"
      ]
    },
    {
      "cell_type": "markdown",
      "metadata": {
        "id": "WR92Jdpy6jJT"
      },
      "source": [
        "Task 8\n",
        "\n",
        "A box contains 50 lottery tickets, 12 of which contain prizes. 2 of these tickets contain a prize of 1000 dollars, the rest contain prizes of 100 dollars.\n",
        "\n",
        "Create a table corresponding to the distribution law of the prize, if one ticket is selected at random"
      ]
    },
    {
      "cell_type": "code",
      "metadata": {
        "id": "t9Cks6WU6lt9"
      },
      "source": [
        "tickets = {0:50-12,100:12-2,1000:2} # Dictionary of prizes: key - the value of the prize, value - number of tickets containing the prize in question\n",
        "probs =[tickets[x]/50 for x in tickets.keys()]"
      ],
      "execution_count": null,
      "outputs": []
    },
    {
      "cell_type": "code",
      "metadata": {
        "id": "BHebpdIi6nzS",
        "colab": {
          "base_uri": "https://localhost:8080/",
          "height": 34
        },
        "outputId": "1803d36e-194a-4725-8e45-63f28f792711"
      },
      "source": [
        "print(probs,sum(probs)) #Count the value of the prize along with the probability of getting the prize in question"
      ],
      "execution_count": null,
      "outputs": [
        {
          "output_type": "stream",
          "text": [
            "[0.76, 0.2, 0.04] 1.0\n"
          ],
          "name": "stdout"
        }
      ]
    },
    {
      "cell_type": "markdown",
      "metadata": {
        "id": "3O8Xosk26qRT"
      },
      "source": [
        "Task 9\n",
        "\n",
        "A discrete random variable is characterized by the following distribution:\n",
        "\n",
        "W = {-2:0.4, 0:0.1, 3:0.3, 7:0.2}\n",
        "\n",
        "Find its expectation value, variance, and mean squared error."
      ]
    },
    {
      "cell_type": "code",
      "metadata": {
        "id": "_ZnDYtO06sBb",
        "colab": {
          "base_uri": "https://localhost:8080/",
          "height": 68
        },
        "outputId": "09068127-04d3-43ec-944d-c212674717ce"
      },
      "source": [
        "import numpy as np\n",
        "w = {-2:0.4, 0:0.1, 3:0.3, 7:0.2} # Create the distribution law dictionary\n",
        "E = sum([ key * w[key] for key in w.keys()]) # expectation value (sum of the products of random variables and their probabilities)\n",
        "E_x2 = sum([ (key**2) * w[key] for key in w.keys()]) #Sum of the products of the random variables squared and their probabilities\n",
        "#Print the values\n",
        "print('Expectation value =', E)\n",
        "print('Variance =', round(E_x2 - (E**2),4))\n",
        "print('Mean squared error =', round(np.sqrt(E_x2 - (E**2)),3))"
      ],
      "execution_count": null,
      "outputs": [
        {
          "output_type": "stream",
          "text": [
            "Expectation value = 1.5\n",
            "Variance = 11.85\n",
            "Mean squared error = 3.442\n"
          ],
          "name": "stdout"
        }
      ]
    },
    {
      "cell_type": "code",
      "metadata": {
        "id": "Ldn0lorY6tmR"
      },
      "source": [
        "w = {-1:0.3, 0.5:0.2, 2:0.4, 9:0.1} # Create the distribution law dictionary\n",
        "E = sum([ key * w[key] for key in w.keys()]) # expectation value (sum of the products of random variables and their probabilities\n",
        "E_x2 = sum([ (key**2) * w[key] for key in w.keys()]) #Sum of the products of the random variables squared and their probabilities\n",
        "#Print the values\n",
        "print('Expectation value =', E)\n",
        "print('Variance =', round(E_x2 - (E**2),4))\n",
        "print('Mean squared error =', round(np.sqrt(E_x2 - (E**2)),3))"
      ],
      "execution_count": null,
      "outputs": []
    },
    {
      "cell_type": "code",
      "metadata": {
        "id": "SiUGuSps6ujk"
      },
      "source": [
        "w = {-5:0.1, 2:0.3, 3:0.3, 10:0.3}# Create the distribution law dictionary\n",
        "E = sum([ key * w[key] for key in w.keys()]) # expectation value (sum of the products of random variables and their probabilities\n",
        "E_x2 = sum([ (key**2) * w[key] for key in w.keys()]) #Sum of the products of the random variables squared and their probabilities\n",
        "#Print the values\n",
        "print('Expectation value =', E)\n",
        "print('Variance =', round(E_x2 - (E**2),4))\n",
        "print('Mean squared error =', round(np.sqrt(E_x2 - (E**2)),3))"
      ],
      "execution_count": null,
      "outputs": []
    },
    {
      "cell_type": "markdown",
      "metadata": {
        "id": "-H2gvLHhSn-0"
      },
      "source": [
        "**Glossary**\n",
        "\n",
        "\n",
        "\n",
        "Let m - number of equally probable outcomes fulfilling criteria A\n",
        "\n",
        "Let n  - total number of equally probable outcomes.\n",
        "\n",
        "Then the probability of any event can be calculated as:\n",
        "\n",
        ">**P(A) = m/n**\n",
        "----\n",
        "**The sum of the probability of all events is *always* equal to *1***\n",
        "\n",
        "The simplest example - a coin toss.\n",
        "\n",
        "A - the outcome is heads\n",
        "\n",
        "B - the outcome is tails\n",
        "\n",
        "In this case the sum of the probabilities of all events is:\n",
        ">**P(A) + P(B) = 1**\n",
        "-----\n",
        "Probability of two events (which are independent of one other) occurring at the same time\n",
        "\n",
        "==== Equivalent to the logical 'AND' operator ====\n",
        "\n",
        ">**P(A * B) = P(A) * P(B)**\n",
        "\n",
        "Example:\n",
        "Probability of hitting shooting a target and scoring a hit two times in a row. Find the probability of two hits being scored **in succession**.\n",
        "\n",
        "------\n",
        "Probability of one of two incompatible events (events which depend on one-another) occurring.\n",
        "\n",
        "==== Equivalent to the logical 'OR' operator ====\n",
        "\n",
        ">**P(A + B) = P(A) + P(B)**\n",
        "\n",
        "Example:\n",
        "Two shots are made at a target. Event A – the target being hit with the first shot, event B – the target being hit with the second shot, event (A + B) – the target was hit at least once **either** from the first shot **or** from the second shot.\n",
        "\n",
        "-----\n",
        "\n",
        "*Theorem on adding probabilities with incompatible outcomes*.\n",
        "\n",
        "The probability of at least one of the two events occurring\n",
        "\n",
        "> **P(A + B) = P(A) + P(B) - P(A * B)**\n",
        "\n"
      ]
    },
    {
      "cell_type": "code",
      "metadata": {
        "id": "lGXqpwZsVnd1"
      },
      "source": [
        "my_dict = {\"One\":\"Two\"}\n",
        "print(list(my_dict.values())[0])"
      ],
      "execution_count": null,
      "outputs": []
    },
    {
      "cell_type": "code",
      "metadata": {
        "id": "zjbjowqVWhWI"
      },
      "source": [
        "list(dict.values(my_dict))"
      ],
      "execution_count": null,
      "outputs": []
    }
  ]
}